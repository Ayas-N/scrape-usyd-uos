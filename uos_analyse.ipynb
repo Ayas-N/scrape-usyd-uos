{
 "cells": [
  {
   "cell_type": "markdown",
   "metadata": {},
   "source": [
    "### UOS Analysis"
   ]
  },
  {
   "cell_type": "code",
   "execution_count": 4,
   "metadata": {},
   "outputs": [
    {
     "ename": "ModuleNotFoundError",
     "evalue": "No module named 'pandas'",
     "output_type": "error",
     "traceback": [
      "\u001b[1;31m---------------------------------------------------------------------------\u001b[0m",
      "\u001b[1;31mModuleNotFoundError\u001b[0m                       Traceback (most recent call last)",
      "Cell \u001b[1;32mIn[4], line 1\u001b[0m\n\u001b[1;32m----> 1\u001b[0m \u001b[38;5;28;01mimport\u001b[39;00m \u001b[38;5;21;01mpandas\u001b[39;00m \u001b[38;5;28;01mas\u001b[39;00m \u001b[38;5;21;01mpd\u001b[39;00m\n\u001b[0;32m      2\u001b[0m \u001b[38;5;28;01mimport\u001b[39;00m \u001b[38;5;21;01mmatplotlib\u001b[39;00m \n\u001b[0;32m      4\u001b[0m data \u001b[38;5;241m=\u001b[39m pd\u001b[38;5;241m.\u001b[39mread_csv(\u001b[38;5;124m\"\u001b[39m\u001b[38;5;124muos_duedate.csv\u001b[39m\u001b[38;5;124m\"\u001b[39m)\n",
      "\u001b[1;31mModuleNotFoundError\u001b[0m: No module named 'pandas'"
     ]
    }
   ],
   "source": [
    "import pandas as pd\n",
    "import matplotlib \n",
    "\n",
    "data = pd.read_csv(\"uos_duedate.csv\")\n",
    "data = data.drop(columns = 'Unnamed: 0')\n",
    "data = data[(data['Due'].str[:5] == 'Week ') | (data['Due'].str[-4:] == '2024')]"
   ]
  },
  {
   "cell_type": "code",
   "execution_count": null,
   "metadata": {},
   "outputs": [
    {
     "data": {
      "text/plain": [
       "array(['Accounting', 'Business Information Systems',\n",
       "       'United States Studies Centre', 'Gender and Cultural Studies',\n",
       "       'Arts and Social Sciences',\n",
       "       'Life and Environmental Sciences Academic Operations',\n",
       "       'Chemistry Academic Operations', 'Department of Medical Sciences',\n",
       "       'Science Faculty', 'Classics and Ancient History', 'Archaeology',\n",
       "       'History', 'Anthropology', 'Art History', 'Asian Studies',\n",
       "       'Chinese Studies', 'Korean Studies', 'Business Analytics',\n",
       "       'Business School', 'Finance', 'Economics', 'Pharmacy',\n",
       "       'Computer Science', 'Electrical and Information Engineering',\n",
       "       'Engineering', 'Sociology and Criminology',\n",
       "       'Mathematics and Statistics Academic Operations',\n",
       "       'Physics Academic Operations', 'Design Lab', 'Architecture',\n",
       "       'Media and Communications', 'Composition and Music Technology',\n",
       "       'Analysis, History and Cultural Studies', 'Performance',\n",
       "       'Participation Sciences', 'Social Work', 'Education',\n",
       "       'Geosciences Academic Operations', 'European Studies',\n",
       "       'Germanic Studies', 'Hebrew, Biblical and Jewish Studies',\n",
       "       'Modern Greek and Byzantine Studies', 'Film Studies',\n",
       "       'French and Francophone Studies', 'Communication Sciences',\n",
       "       'Movement Sciences',\n",
       "       'History and Philosophy of Science Academic Operations',\n",
       "       'Indigenous Academic Units', 'Indonesian Studies',\n",
       "       'Work and Organisational Studies',\n",
       "       'Strategy, Innovation and Entrepreneurship', 'Project Management',\n",
       "       'International Business',\n",
       "       'International Comparative Literature and Translation Studies',\n",
       "       'Government and International Relations', 'Philosophy',\n",
       "       'Italian Studies', 'Japanese Studies', 'Linguistics', 'Marketing',\n",
       "       'Psychology Academic Operations', 'Political Economy',\n",
       "       'Spanish and Latin American Studies', 'Studies in Religion',\n",
       "       'Sydney College of the Arts',\n",
       "       'Chemical and Biomolecular Engineering', 'Civil Engineering',\n",
       "       'Theatre and Performance Studies',\n",
       "       'Urban and Regional Planning and Policy', 'English and Writing'],\n",
       "      dtype=object)"
      ]
     },
     "execution_count": 35,
     "metadata": {},
     "output_type": "execute_result"
    }
   ],
   "source": [
    "school_of_business = ['Accounting', 'Business Information Systems', 'Business School', 'Business Analytics', 'International Business',\n",
    "                       'Marketing', 'Finance', 'Work and Organisational Studies'] \n",
    "engineerings = ['Electrical and Information Engineering', 'Engineering', 'Computer Science', 'Chemical and Biomolecular Engineering', 'Civil Engineering', 'Project Management']\n",
    "arts_and_ss = ['United States Studies Centre', 'Gender and Cultural Studies', 'Arts and Social Sciences', 'Classics and Anicnet History', 'Archaeology',\n",
    "                'History', 'Anthropology', 'Art History', 'Asian Studies', 'Chinese Studies', 'Korean Studies', 'Social Work', 'Education', 'Sociology and Criminology',\n",
    "                'Media and Communications', 'European Studies', 'Germanic Studies', 'Hebrew, Biblical and Jewish Studies','Modern Greek and Byzantine Studies',\n",
    "                'Film Studies', 'French and Francophone Studies', 'Indigenous Academic Units', 'Indonesian Studies']\n",
    "data['School'].unique()"
   ]
  }
 ],
 "metadata": {
  "kernelspec": {
   "display_name": "Python 3",
   "language": "python",
   "name": "python3"
  },
  "language_info": {
   "codemirror_mode": {
    "name": "ipython",
    "version": 3
   },
   "file_extension": ".py",
   "mimetype": "text/x-python",
   "name": "python",
   "nbconvert_exporter": "python",
   "pygments_lexer": "ipython3",
   "version": "3.11.0"
  }
 },
 "nbformat": 4,
 "nbformat_minor": 2
}
